{
 "cells": [
  {
   "cell_type": "code",
   "execution_count": 1,
   "id": "024fb9dd-a8fa-4f5f-8662-069e360adbdb",
   "metadata": {},
   "outputs": [
    {
     "name": "stdout",
     "output_type": "stream",
     "text": [
      "No CUDA runtime is found, using CUDA_HOME='/usr/local/cuda'\n"
     ]
    }
   ],
   "source": [
    "import torch\n",
    "import math\n",
    "import mmcv\n",
    "from mmdet.apis import init_detector\n",
    "from mmocr.apis.inference import model_inference\n",
    "from mmocr.core.visualize import det_recog_show_result\n",
    "from mmocr.datasets.pipelines.crop import crop_img\n",
    "from mmdet.datasets import replace_ImageToTensor\n",
    "from mmdet.datasets.pipelines import Compose\n",
    "\n",
    "import matplotlib.pyplot as plt\n",
    "import numpy as np\n",
    "from PIL import Image\n",
    "\n",
    "\n",
    "%matplotlib inline"
   ]
  },
  {
   "cell_type": "code",
   "execution_count": 2,
   "id": "f0eba7dc-8a92-4e13-bc4c-864fe4dc1fb4",
   "metadata": {},
   "outputs": [],
   "source": [
    "# build recog model\n",
    "recog_ckpt = \"crnn_academic-a723a1c5.pth\"\n",
    "recog_config = \"crnn_academic_dataset.py\"\n",
    "device = 'cpu'\n"
   ]
  },
  {
   "cell_type": "code",
   "execution_count": 3,
   "id": "669cb175-214c-40a5-bdb7-b2be03452a0c",
   "metadata": {},
   "outputs": [
    {
     "name": "stdout",
     "output_type": "stream",
     "text": [
      "Use load_from_local loader\n"
     ]
    }
   ],
   "source": [
    "recog_model = init_detector(\n",
    "    recog_config, recog_ckpt, device=device)\n",
    "if hasattr(recog_model, 'module'):\n",
    "    recog_model = recog_model.module\n",
    "# if recog_model.cfg.data.test['type'] == 'ConcatDataset':\n",
    "#     recog_model.cfg.data.test.pipeline = \\\n",
    "#         recog_model.cfg.data.test['datasets'][0].pipeline"
   ]
  },
  {
   "cell_type": "code",
   "execution_count": 4,
   "id": "9407aa13-4021-4f5b-96e8-da66c8926a33",
   "metadata": {},
   "outputs": [],
   "source": [
    "def preprocess_image(pil_im, dst_height=32, dst_min_width=32, width_downsample_ratio=1.0 / 16):\n",
    "\n",
    "    (ori_width, ori_height) = pil_im.size\n",
    "    new_width = math.ceil(float(dst_height) / ori_height * ori_width)\n",
    "    width_divisor = int(1 / width_downsample_ratio)\n",
    "\n",
    "    if new_width % width_divisor != 0:\n",
    "        new_width = round(new_width / width_divisor) * width_divisor\n",
    "    \n",
    "    new_width = max(dst_min_width, new_width)\n",
    "    \n",
    "    im_resized = pil_im.resize(size=(new_width, dst_height))\n",
    "    \n",
    "    return np.asarray(im_resized, dtype=np.float32)"
   ]
  },
  {
   "cell_type": "code",
   "execution_count": 5,
   "id": "96191020-9c27-49fe-af68-8beef6177ebe",
   "metadata": {},
   "outputs": [
    {
     "name": "stdout",
     "output_type": "stream",
     "text": [
      "(39, 32)\n",
      "(32, 32)\n",
      "torch.Size([1, 32, 32])\n"
     ]
    }
   ],
   "source": [
    "image = \"test_images/image_2.jpg\"\n",
    "\n",
    "pil_im = Image.open(image).convert('L')\n",
    "print(pil_im.size)\n",
    "im_array = preprocess_image(pil_im)\n",
    "print(im_array.shape)\n",
    "\n",
    "im_array = (im_array-127.0)/127.0\n",
    "\n",
    "image_tensor = torch.from_numpy(im_array)\n",
    "image_tensor = image_tensor.unsqueeze(0).to(device)\n",
    "\n",
    "print(image_tensor.shape)"
   ]
  },
  {
   "cell_type": "code",
   "execution_count": 6,
   "id": "46318879-5cef-44ad-980a-2d99e658bb3f",
   "metadata": {},
   "outputs": [],
   "source": [
    "data = dict(img=image_tensor.unsqueeze(0), img_metas=[{'filename': 'test_images/image_1.jpg', 'resize_shape': (32, 48), 'valid_ratio': 1.0}])\n",
    "with torch.no_grad():\n",
    "    det_result = recog_model(return_loss=False, rescale=True, **data)"
   ]
  },
  {
   "cell_type": "code",
   "execution_count": 7,
   "id": "f9137339-184e-4182-ba77-1e42ded4051a",
   "metadata": {},
   "outputs": [
    {
     "name": "stdout",
     "output_type": "stream",
     "text": [
      "[{'text': '29', 'score': [0.7329947352409363, 0.5580153465270996]}]\n"
     ]
    },
    {
     "data": {
      "image/png": "[encoded data removed]",
      "text/plain": [
       "<Figure size 432x288 with 1 Axes>"
      ]
     },
     "metadata": {
      "needs_background": "light"
     },
     "output_type": "display_data"
    }
   ],
   "source": [
    "im_array = np.asarray(pil_im)\n",
    "plt.imshow(im_array)\n",
    "print(det_result)"
   ]
  },
  {
   "cell_type": "markdown",
   "id": "2e26fc7d-4cc0-444c-830c-32924ec705cc",
   "metadata": {},
   "source": [
    "# Quantization"
   ]
  },
  {
   "cell_type": "code",
   "execution_count": 8,
   "id": "25303940-fe36-45c2-a87c-4bcd7866005f",
   "metadata": {},
   "outputs": [],
   "source": [
    "from utils import CRNNNet, VeryDeepVgg\n",
    "from mmocr.models.textrecog import CTCConvertor, CTCLoss, CRNNDecoder\n",
    "from mmcv.runner import load_checkpoint\n",
    "import copy"
   ]
  },
  {
   "cell_type": "code",
   "execution_count": 9,
   "id": "a174affa-a7c8-427b-8e15-3d2bdd2f59f7",
   "metadata": {},
   "outputs": [],
   "source": [
    "config = mmcv.Config.fromfile(recog_config)\n",
    "model_config = config.model\n",
    "# print(model_config)"
   ]
  },
  {
   "cell_type": "code",
   "execution_count": 10,
   "id": "17a5eec0-328b-48a0-a25e-0d1a909c1067",
   "metadata": {},
   "outputs": [],
   "source": [
    "max_seq_len=40\n",
    "\n",
    "backbone_cfg = model_config['backbone'].copy()\n",
    "backbone_cfg.pop('type')\n",
    "backbone = VeryDeepVgg(**backbone_cfg)\n",
    "\n",
    "\n",
    "label_converter_cfg = model_config['label_convertor'].copy()\n",
    "label_converter_cfg.pop('type')\n",
    "label_converter_cfg.update(max_seq_len=max_seq_len)\n",
    "label_converter = CTCConvertor(**label_converter_cfg)\n",
    "\n",
    "decoder_cfg = model_config['decoder'].copy()\n",
    "decoder_cfg.pop('type')\n",
    "decoder_cfg.update(num_classes=label_converter.num_classes())\n",
    "decoder_cfg.update(start_idx=label_converter.start_idx)\n",
    "decoder_cfg.update(padding_idx=label_converter.padding_idx)\n",
    "decoder_cfg.update(max_seq_len=max_seq_len)\n",
    "decoder = CRNNDecoder(**decoder_cfg)\n",
    "\n",
    "\n",
    "loss_cfg = model_config['decoder'].copy()\n",
    "loss_cfg.pop('type')\n",
    "loss_cfg.update(ignore_index=label_converter.padding_idx)\n",
    "loss = CTCLoss(**loss_cfg)\n",
    "\n"
   ]
  },
  {
   "cell_type": "code",
   "execution_count": 11,
   "id": "313193a7-3f21-429d-9546-19b5086bf44d",
   "metadata": {},
   "outputs": [],
   "source": [
    "backbone.load_state_dict(recog_model.backbone.state_dict())\n",
    "decoder.load_state_dict(recog_model.decoder.state_dict())\n",
    "\n",
    "model = CRNNNet(preprocessor=None,\n",
    "            backbone=backbone,\n",
    "            decoder=decoder,\n",
    "            loss=loss,\n",
    "            label_convertor=label_converter,\n",
    "            pretrained=None,\n",
    "            test_cfg=config.get('test_cfg'))\n",
    "# model.backbone.load_state_dict(recog_model.backbone.state_dict())\n",
    "# model.decoder.load_state_dict(recog_model.decoder.state_dict())\n",
    "# model.load_state_dict(torch.load(recog_ckpt)['state_dict'])\n",
    "# map_loc = 'cpu' if device == 'cpu' else None\n",
    "# checkpoint = load_checkpoint(model, recog_ckpt, map_location=map_loc)\n",
    "# if 'CLASSES' in checkpoint.get('meta', {}):\n",
    "#     model.CLASSES = checkpoint['meta']['CLASSES']\n",
    "# _ = model.to(device)\n",
    "model.eval()\n",
    "model.cfg = config"
   ]
  },
  {
   "cell_type": "code",
   "execution_count": 13,
   "id": "9e198317-eedf-4ae8-83dd-3edc45053c59",
   "metadata": {},
   "outputs": [
    {
     "name": "stdout",
     "output_type": "stream",
     "text": [
      "[{'text': '29', 'score': [0.7329947352409363, 0.5580153465270996]}]\n"
     ]
    }
   ],
   "source": [
    "# with torch.no_grad():\n",
    "det_result = model(return_loss=False, rescale=True, **data)\n",
    "    \n",
    "print(det_result)"
   ]
  },
  {
   "cell_type": "code",
   "execution_count": null,
   "id": "5fe0a7e7-cd3a-49ff-b6c2-1680f54111ea",
   "metadata": {},
   "outputs": [],
   "source": [
    "fuser_list = [\n",
    "    [\"backbone.cnn.conv0\", \"backbone.cnn.relu0\"],\n",
    "    [\"backbone.cnn.conv1\", \"backbone.cnn.relu1\"],\n",
    "    [\"backbone.cnn.conv2\", \"backbone.cnn.batchnorm2\", \"backbone.cnn.relu2\"],\n",
    "    [\"backbone.cnn.conv3\", \"backbone.cnn.relu3\"],\n",
    "    [\"backbone.cnn.conv4\", \"backbone.cnn.batchnorm4\", \"backbone.cnn.relu4\"],\n",
    "    [\"backbone.cnn.conv5\", \"backbone.cnn.relu5\"],\n",
    "    [\"backbone.cnn.conv6\", \"backbone.cnn.batchnorm6\", \"backbone.cnn.relu6\"]\n",
    "]\n",
    "fused_model = torch.quantization.fuse_modules(copy.deepcopy(model), fuser_list, inplace=True)\n",
    "fused_model.eval()"
   ]
  },
  {
   "cell_type": "code",
   "execution_count": null,
   "id": "d9f2e756-4740-45c0-9710-5d15765d3ec2",
   "metadata": {},
   "outputs": [],
   "source": [
    "fused_model"
   ]
  },
  {
   "cell_type": "code",
   "execution_count": null,
   "id": "b0b78736-eef8-4f04-99c6-ce6f34ebd6b9",
   "metadata": {},
   "outputs": [],
   "source": [
    "with torch.no_grad():\n",
    "    det_result = fused_model(return_loss=False, rescale=True, **data)\n",
    "    \n",
    "print(det_result)"
   ]
  },
  {
   "cell_type": "code",
   "execution_count": null,
   "id": "85022bd4-4ef9-435a-adea-fd41329296d2",
   "metadata": {},
   "outputs": [],
   "source": [
    "\n",
    "\n",
    "def save_torchscript_model(model, model_dir, model_filename):\n",
    "    if not os.path.exists(model_dir):\n",
    "        os.makedirs(model_dir)\n",
    "    model_filepath = os.path.join(model_dir, model_filename)\n",
    "    torch.jit.save(torch.jit.script(model), model_filepath)\n",
    "\n",
    "def load_torchscript_model(model_filepath, device):\n",
    "    model = torch.jit.load(model_filepath, map_location=device)\n",
    "    return model\n",
    "\n",
    "def calibrate_model(model, device=torch.device(\"cpu:0\")):\n",
    "    model.to(device)\n",
    "    model.eval()\n",
    "    \n",
    "    for i in range(3):\n",
    "        _ = model(return_loss=False, rescale=True, **data)\n",
    "#     for inputs, labels in loader:\n",
    "#         inputs = inputs.to(device)\n",
    "#         labels = labels.to(device)\n",
    "#         _ = model(inputs)"
   ]
  },
  {
   "cell_type": "code",
   "execution_count": null,
   "id": "d4dc73fd-8215-40ab-958e-716ed9fa82bd",
   "metadata": {},
   "outputs": [],
   "source": [
    "cpu_device = torch.device(\"cpu:0\")\n",
    "model_dir = \"quantized\"\n",
    "quantized_model_filename = \"crnn_quantized_int8.ptl\"\n",
    "\n",
    "image = \"test_images/image_2.jpg\"\n",
    "\n",
    "pil_im = Image.open(image).convert('L')\n",
    "print(pil_im.size)\n",
    "im_array = preprocess_image(pil_im)\n",
    "print(im_array.shape)\n",
    "\n",
    "im_array = (im_array-127.0)/127.0\n",
    "\n",
    "image_tensor = torch.from_numpy(im_array)\n",
    "image_tensor = image_tensor.unsqueeze(0).to(cpu_device)\n",
    "data = dict(img=image_tensor.unsqueeze(0), img_metas=[{'filename': 'test_images/image_1.jpg', 'resize_shape': (32, 48), 'valid_ratio': 1.0}])"
   ]
  },
  {
   "cell_type": "code",
   "execution_count": null,
   "id": "9f27ca64-ea3c-46cd-a0ee-733d0a64a501",
   "metadata": {},
   "outputs": [],
   "source": [
    "# quantization_config = torch.quantization.get_default_qconfig(\"fbgemm\") # or 'qnnpack'\n",
    "quantization_config = torch.quantization.get_default_qconfig('qnnpack') # or 'qnnpack'\n",
    "fused_model.qconfig = quantization_config\n",
    "\n",
    "print(fused_model.qconfig)\n",
    "\n",
    "torch.quantization.prepare(fused_model, inplace=True)\n",
    "\n",
    "calibrate_model(model=fused_model, device=cpu_device)\n",
    "\n",
    "quantized_model = torch.quantization.convert(fused_model, inplace=True)\n",
    "\n",
    "quantized_model.eval()\n",
    "\n",
    "# Print quantized model.\n",
    "# print(quantized_model)\n",
    "\n",
    "# Save quantized model.\n",
    "save_torchscript_model(model=quantized_model, model_dir=model_dir, model_filename=quantized_model_filename)\n",
    "\n",
    "# Load quantized model.\n",
    "quantized_jit_model = load_torchscript_model(model_filepath=quantized_model_filepath, device=cpu_device)"
   ]
  },
  {
   "cell_type": "code",
   "execution_count": null,
   "id": "498ad002-5886-488d-9dca-3fd51bff4406",
   "metadata": {},
   "outputs": [],
   "source": [
    "with torch.no_grad():\n",
    "#     det_result = quantized_jit_model(return_loss=False, rescale=True, **data)\n",
    "    det_result = quantized_jit_model(return_loss=False, rescale=True, **data)\n",
    "    \n",
    "print(det_result)"
   ]
  }
 ],
 "metadata": {
  "kernelspec": {
   "display_name": "Python 3",
   "language": "python",
   "name": "python3"
  },
  "language_info": {
   "codemirror_mode": {
    "name": "ipython",
    "version": 3
   },
   "file_extension": ".py",
   "mimetype": "text/x-python",
   "name": "python",
   "nbconvert_exporter": "python",
   "pygments_lexer": "ipython3",
   "version": "3.7.7"
  }
 },
 "nbformat": 4,
 "nbformat_minor": 5
}
